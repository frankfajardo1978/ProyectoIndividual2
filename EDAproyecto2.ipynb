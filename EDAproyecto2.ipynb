{
 "cells": [
  {
   "cell_type": "markdown",
   "metadata": {},
   "source": [
    "QUIERO VALIDAR COMO SON LOS INGRESOS EN LOS ULTIMOS 5 ANOS EN SECTOR DE LAS TELECOMUNICACIONE SEN ARGNTINA"
   ]
  },
  {
   "cell_type": "code",
   "execution_count": 2,
   "metadata": {},
   "outputs": [],
   "source": [
    "import pandas as pd\n",
    "import matplotlib.pyplot as plt\n",
    "import warnings\n",
    "import seaborn as sns"
   ]
  },
  {
   "cell_type": "markdown",
   "metadata": {},
   "source": [
    "1- Cargamos el data set a trabajar y especificamente la hoja \"ingresos\""
   ]
  },
  {
   "cell_type": "code",
   "execution_count": 3,
   "metadata": {},
   "outputs": [],
   "source": [
    "ruta = 'Internet.xlsx'\n",
    "df_ingreso_int = pd.read_excel(ruta,sheet_name='Ingresos ')"
   ]
  },
  {
   "cell_type": "markdown",
   "metadata": {},
   "source": [
    "2- Filtar solo los ultimos 5 anos"
   ]
  },
  {
   "cell_type": "code",
   "execution_count": 4,
   "metadata": {},
   "outputs": [
    {
     "data": {
      "text/html": [
       "<div>\n",
       "<style scoped>\n",
       "    .dataframe tbody tr th:only-of-type {\n",
       "        vertical-align: middle;\n",
       "    }\n",
       "\n",
       "    .dataframe tbody tr th {\n",
       "        vertical-align: top;\n",
       "    }\n",
       "\n",
       "    .dataframe thead th {\n",
       "        text-align: right;\n",
       "    }\n",
       "</style>\n",
       "<table border=\"1\" class=\"dataframe\">\n",
       "  <thead>\n",
       "    <tr style=\"text-align: right;\">\n",
       "      <th></th>\n",
       "      <th>Año</th>\n",
       "      <th>Trimestre</th>\n",
       "      <th>Ingresos (miles de pesos)</th>\n",
       "      <th>Periodo</th>\n",
       "    </tr>\n",
       "  </thead>\n",
       "  <tbody>\n",
       "    <tr>\n",
       "      <th>0</th>\n",
       "      <td>2024</td>\n",
       "      <td>2</td>\n",
       "      <td>4.420322e+08</td>\n",
       "      <td>Abr-Jun 2024</td>\n",
       "    </tr>\n",
       "    <tr>\n",
       "      <th>1</th>\n",
       "      <td>2024</td>\n",
       "      <td>1</td>\n",
       "      <td>3.461990e+08</td>\n",
       "      <td>Ene-Mar 2024</td>\n",
       "    </tr>\n",
       "    <tr>\n",
       "      <th>2</th>\n",
       "      <td>2023</td>\n",
       "      <td>4</td>\n",
       "      <td>1.673760e+08</td>\n",
       "      <td>Oct-Dic 2023</td>\n",
       "    </tr>\n",
       "    <tr>\n",
       "      <th>3</th>\n",
       "      <td>2023</td>\n",
       "      <td>3</td>\n",
       "      <td>1.331066e+08</td>\n",
       "      <td>Jul-Sept 2023</td>\n",
       "    </tr>\n",
       "    <tr>\n",
       "      <th>4</th>\n",
       "      <td>2023</td>\n",
       "      <td>2</td>\n",
       "      <td>1.180603e+08</td>\n",
       "      <td>Jun-Mar 2023</td>\n",
       "    </tr>\n",
       "  </tbody>\n",
       "</table>\n",
       "</div>"
      ],
      "text/plain": [
       "    Año  Trimestre  Ingresos (miles de pesos)        Periodo\n",
       "0  2024          2               4.420322e+08   Abr-Jun 2024\n",
       "1  2024          1               3.461990e+08   Ene-Mar 2024\n",
       "2  2023          4               1.673760e+08   Oct-Dic 2023\n",
       "3  2023          3               1.331066e+08  Jul-Sept 2023\n",
       "4  2023          2               1.180603e+08   Jun-Mar 2023"
      ]
     },
     "execution_count": 4,
     "metadata": {},
     "output_type": "execute_result"
    }
   ],
   "source": [
    "# Filtrar el dataset para obtener solo los datos desde el año 2020 en adelante\n",
    "df_ingreso_int = df_ingreso_int[df_ingreso_int['Año'] >= 2020]\n",
    "\n",
    "# Mostrar los primeros registros del dataset filtrado para confirmar\n",
    "df_ingreso_int.head()\n"
   ]
  },
  {
   "cell_type": "code",
   "execution_count": 5,
   "metadata": {},
   "outputs": [
    {
     "data": {
      "text/plain": [
       "(18, 4)"
      ]
     },
     "execution_count": 5,
     "metadata": {},
     "output_type": "execute_result"
    }
   ],
   "source": [
    "# dimensiones del dataset\n",
    "df_ingreso_int.shape"
   ]
  },
  {
   "cell_type": "code",
   "execution_count": 6,
   "metadata": {},
   "outputs": [
    {
     "name": "stdout",
     "output_type": "stream",
     "text": [
      "<class 'pandas.core.frame.DataFrame'>\n",
      "Index: 18 entries, 0 to 17\n",
      "Data columns (total 4 columns):\n",
      " #   Column                     Non-Null Count  Dtype  \n",
      "---  ------                     --------------  -----  \n",
      " 0   Año                        18 non-null     int64  \n",
      " 1   Trimestre                  18 non-null     int64  \n",
      " 2   Ingresos (miles de pesos)  18 non-null     float64\n",
      " 3   Periodo                    18 non-null     object \n",
      "dtypes: float64(1), int64(2), object(1)\n",
      "memory usage: 720.0+ bytes\n"
     ]
    }
   ],
   "source": [
    "# ver los datos nulos y los tipo de datos en las columnas \n",
    "df_ingreso_int.info()"
   ]
  },
  {
   "cell_type": "markdown",
   "metadata": {},
   "source": [
    "No se observan datos nulos"
   ]
  },
  {
   "cell_type": "code",
   "execution_count": 7,
   "metadata": {},
   "outputs": [
    {
     "data": {
      "text/html": [
       "<div>\n",
       "<style scoped>\n",
       "    .dataframe tbody tr th:only-of-type {\n",
       "        vertical-align: middle;\n",
       "    }\n",
       "\n",
       "    .dataframe tbody tr th {\n",
       "        vertical-align: top;\n",
       "    }\n",
       "\n",
       "    .dataframe thead th {\n",
       "        text-align: right;\n",
       "    }\n",
       "</style>\n",
       "<table border=\"1\" class=\"dataframe\">\n",
       "  <thead>\n",
       "    <tr style=\"text-align: right;\">\n",
       "      <th></th>\n",
       "      <th>Año</th>\n",
       "      <th>Trimestre</th>\n",
       "      <th>Ingresos (miles de pesos)</th>\n",
       "    </tr>\n",
       "  </thead>\n",
       "  <tbody>\n",
       "    <tr>\n",
       "      <th>count</th>\n",
       "      <td>18.000000</td>\n",
       "      <td>18.000000</td>\n",
       "      <td>1.800000e+01</td>\n",
       "    </tr>\n",
       "    <tr>\n",
       "      <th>mean</th>\n",
       "      <td>2022.333333</td>\n",
       "      <td>2.388889</td>\n",
       "      <td>1.030027e+08</td>\n",
       "    </tr>\n",
       "    <tr>\n",
       "      <th>std</th>\n",
       "      <td>2.970443</td>\n",
       "      <td>1.144752</td>\n",
       "      <td>1.141834e+08</td>\n",
       "    </tr>\n",
       "    <tr>\n",
       "      <th>min</th>\n",
       "      <td>2020.000000</td>\n",
       "      <td>1.000000</td>\n",
       "      <td>2.994622e+07</td>\n",
       "    </tr>\n",
       "    <tr>\n",
       "      <th>25%</th>\n",
       "      <td>2021.000000</td>\n",
       "      <td>1.250000</td>\n",
       "      <td>3.706720e+07</td>\n",
       "    </tr>\n",
       "    <tr>\n",
       "      <th>50%</th>\n",
       "      <td>2022.000000</td>\n",
       "      <td>2.000000</td>\n",
       "      <td>5.781941e+07</td>\n",
       "    </tr>\n",
       "    <tr>\n",
       "      <th>75%</th>\n",
       "      <td>2023.000000</td>\n",
       "      <td>3.000000</td>\n",
       "      <td>1.145790e+08</td>\n",
       "    </tr>\n",
       "    <tr>\n",
       "      <th>max</th>\n",
       "      <td>2033.000000</td>\n",
       "      <td>4.000000</td>\n",
       "      <td>4.420322e+08</td>\n",
       "    </tr>\n",
       "  </tbody>\n",
       "</table>\n",
       "</div>"
      ],
      "text/plain": [
       "               Año  Trimestre  Ingresos (miles de pesos)\n",
       "count    18.000000  18.000000               1.800000e+01\n",
       "mean   2022.333333   2.388889               1.030027e+08\n",
       "std       2.970443   1.144752               1.141834e+08\n",
       "min    2020.000000   1.000000               2.994622e+07\n",
       "25%    2021.000000   1.250000               3.706720e+07\n",
       "50%    2022.000000   2.000000               5.781941e+07\n",
       "75%    2023.000000   3.000000               1.145790e+08\n",
       "max    2033.000000   4.000000               4.420322e+08"
      ]
     },
     "execution_count": 7,
     "metadata": {},
     "output_type": "execute_result"
    }
   ],
   "source": [
    "# quiero ver un detalle de las columnas numericas\n",
    "df_ingreso_int.describe()"
   ]
  },
  {
   "cell_type": "markdown",
   "metadata": {},
   "source": [
    "en este punto decido eliminar la columna trimestre ya que estoy buscando una informacion general"
   ]
  },
  {
   "cell_type": "code",
   "execution_count": 8,
   "metadata": {},
   "outputs": [],
   "source": [
    "df_ingreso_int = df_ingreso_int.drop('Trimestre',axis=1)\n",
    "df_ingreso_int = df_ingreso_int.drop('Periodo',axis=1)"
   ]
  },
  {
   "cell_type": "code",
   "execution_count": 9,
   "metadata": {},
   "outputs": [
    {
     "name": "stdout",
     "output_type": "stream",
     "text": [
      "Valores nulos por columna:\n",
      " Año                          0\n",
      "Ingresos (miles de pesos)    0\n",
      "dtype: int64\n",
      "\n",
      "Valores faltantes por columna:\n",
      " Año                          0\n",
      "Ingresos (miles de pesos)    0\n",
      "dtype: int64\n"
     ]
    }
   ],
   "source": [
    "# Contar valores nulos en cada columna\n",
    "nulos_por_columna = df_ingreso_int.isnull().sum()\n",
    "\n",
    "# Contar valores faltantes en cada columna\n",
    "faltantes_por_columna = df_ingreso_int.isna().sum()\n",
    "\n",
    "print(\"Valores nulos por columna:\\n\", nulos_por_columna)\n",
    "print(\"\\nValores faltantes por columna:\\n\", faltantes_por_columna)\n"
   ]
  },
  {
   "cell_type": "markdown",
   "metadata": {},
   "source": [
    "no hay valores nulos ni faltantes"
   ]
  },
  {
   "cell_type": "markdown",
   "metadata": {},
   "source": [
    "se valida si exiten filas repetidas "
   ]
  },
  {
   "cell_type": "code",
   "execution_count": 10,
   "metadata": {},
   "outputs": [
    {
     "name": "stdout",
     "output_type": "stream",
     "text": [
      "el tamano antes de eliminar las filas (18, 2)\n",
      "el tamano despues de eliminar las filas (18, 2)\n"
     ]
    }
   ],
   "source": [
    "print(f'el tamano antes de eliminar las filas {df_ingreso_int.shape}')\n",
    "df_ingreso_int.drop_duplicates(inplace=True)\n",
    "print(f'el tamano despues de eliminar las filas {df_ingreso_int.shape}')"
   ]
  },
  {
   "cell_type": "markdown",
   "metadata": {},
   "source": [
    "no hay filas repetidas"
   ]
  },
  {
   "cell_type": "markdown",
   "metadata": {},
   "source": [
    "outliers en columnas numericas de Ingresos por Internet"
   ]
  },
  {
   "cell_type": "code",
   "execution_count": 11,
   "metadata": {},
   "outputs": [
    {
     "data": {
      "image/png": "[encoded data removed]",
      "text/plain": [
       "<Figure size 1000x800 with 2 Axes>"
      ]
     },
     "metadata": {},
     "output_type": "display_data"
    }
   ],
   "source": [
    "columnas_num = ['Año','Ingresos (miles de pesos)']\n",
    "\n",
    "fig, ax = plt.subplots(nrows=2, ncols=1, figsize=(10,8))\n",
    "fig.subplots_adjust(hspace=0.5)\n",
    "\n",
    "for i, col in enumerate(columnas_num):\n",
    "    sns.boxplot(x=col, data=df_ingreso_int, ax=ax[i])\n",
    "    ax[i].set_title(col)"
   ]
  },
  {
   "cell_type": "markdown",
   "metadata": {},
   "source": [
    "Reemplazar el valor de una fila específica en una columna:"
   ]
  },
  {
   "cell_type": "markdown",
   "metadata": {},
   "source": [
    "aqui detectamos un outlier en Ano que sobrepasa el 2032, lo cual demuestraclaramente que es un error ya que nuestro dataset deberia tener entre 2020 y 2024, antes de hacer un cambio validemos si es 2023 o 2013, como borre la columna trimestre voy a crear un dataset temporal solo para este fin"
   ]
  },
  {
   "cell_type": "code",
   "execution_count": 12,
   "metadata": {},
   "outputs": [],
   "source": [
    "ruta = 'Internet.xlsx'\n",
    "df_ingreso_int_temp = pd.read_excel(ruta,sheet_name='Ingresos ')"
   ]
  },
  {
   "cell_type": "markdown",
   "metadata": {},
   "source": [
    "ahora lo colocare como un formato Dataframe con pandas"
   ]
  },
  {
   "cell_type": "code",
   "execution_count": 13,
   "metadata": {},
   "outputs": [],
   "source": [
    "df_ingreso_int_temp = pd.DataFrame(df_ingreso_int_temp)\n"
   ]
  },
  {
   "cell_type": "markdown",
   "metadata": {},
   "source": [
    "Ahora selecciono solamente ano y trimestre para ver si si falta algun trimestre en 2023"
   ]
  },
  {
   "cell_type": "code",
   "execution_count": 14,
   "metadata": {},
   "outputs": [],
   "source": [
    "df_ingreso_int_temp = df_ingreso_int_temp[['Año','Trimestre']].sort_values(by ='Año',ascending=False)"
   ]
  },
  {
   "cell_type": "code",
   "execution_count": 15,
   "metadata": {},
   "outputs": [
    {
     "data": {
      "text/html": [
       "<div>\n",
       "<style scoped>\n",
       "    .dataframe tbody tr th:only-of-type {\n",
       "        vertical-align: middle;\n",
       "    }\n",
       "\n",
       "    .dataframe tbody tr th {\n",
       "        vertical-align: top;\n",
       "    }\n",
       "\n",
       "    .dataframe thead th {\n",
       "        text-align: right;\n",
       "    }\n",
       "</style>\n",
       "<table border=\"1\" class=\"dataframe\">\n",
       "  <thead>\n",
       "    <tr style=\"text-align: right;\">\n",
       "      <th></th>\n",
       "      <th>Año</th>\n",
       "      <th>Trimestre</th>\n",
       "    </tr>\n",
       "  </thead>\n",
       "  <tbody>\n",
       "    <tr>\n",
       "      <th>5</th>\n",
       "      <td>2033</td>\n",
       "      <td>1</td>\n",
       "    </tr>\n",
       "    <tr>\n",
       "      <th>0</th>\n",
       "      <td>2024</td>\n",
       "      <td>2</td>\n",
       "    </tr>\n",
       "    <tr>\n",
       "      <th>1</th>\n",
       "      <td>2024</td>\n",
       "      <td>1</td>\n",
       "    </tr>\n",
       "    <tr>\n",
       "      <th>3</th>\n",
       "      <td>2023</td>\n",
       "      <td>3</td>\n",
       "    </tr>\n",
       "    <tr>\n",
       "      <th>4</th>\n",
       "      <td>2023</td>\n",
       "      <td>2</td>\n",
       "    </tr>\n",
       "    <tr>\n",
       "      <th>2</th>\n",
       "      <td>2023</td>\n",
       "      <td>4</td>\n",
       "    </tr>\n",
       "    <tr>\n",
       "      <th>6</th>\n",
       "      <td>2022</td>\n",
       "      <td>4</td>\n",
       "    </tr>\n",
       "    <tr>\n",
       "      <th>7</th>\n",
       "      <td>2022</td>\n",
       "      <td>3</td>\n",
       "    </tr>\n",
       "    <tr>\n",
       "      <th>8</th>\n",
       "      <td>2022</td>\n",
       "      <td>2</td>\n",
       "    </tr>\n",
       "    <tr>\n",
       "      <th>9</th>\n",
       "      <td>2022</td>\n",
       "      <td>1</td>\n",
       "    </tr>\n",
       "  </tbody>\n",
       "</table>\n",
       "</div>"
      ],
      "text/plain": [
       "    Año  Trimestre\n",
       "5  2033          1\n",
       "0  2024          2\n",
       "1  2024          1\n",
       "3  2023          3\n",
       "4  2023          2\n",
       "2  2023          4\n",
       "6  2022          4\n",
       "7  2022          3\n",
       "8  2022          2\n",
       "9  2022          1"
      ]
     },
     "execution_count": 15,
     "metadata": {},
     "output_type": "execute_result"
    }
   ],
   "source": [
    "df_ingreso_int_temp.head(10)"
   ]
  },
  {
   "cell_type": "markdown",
   "metadata": {},
   "source": [
    "efectivamente veo que falta el trimestre 1 de 2023, por tanto el dato 2033 tiene una digitacion erronea que corresponde a 2023"
   ]
  },
  {
   "cell_type": "markdown",
   "metadata": {},
   "source": [
    "Procedo a reemplazar este 2033 por 2023"
   ]
  },
  {
   "cell_type": "code",
   "execution_count": 16,
   "metadata": {},
   "outputs": [
    {
     "data": {
      "text/plain": [
       "Año\n",
       "2023    4\n",
       "2022    4\n",
       "2021    4\n",
       "2020    4\n",
       "2024    2\n",
       "Name: count, dtype: int64"
      ]
     },
     "execution_count": 16,
     "metadata": {},
     "output_type": "execute_result"
    }
   ],
   "source": [
    "# Reemplazar el valor 2033 por 2023 en la columna 'Año'\n",
    "df_ingreso_int['Año'] = df_ingreso_int['Año'].replace(2033, 2023)\n",
    "\n",
    "# Verificar que el reemplazo se haya realizado correctamente\n",
    "df_ingreso_int['Año'].value_counts()\n"
   ]
  },
  {
   "cell_type": "markdown",
   "metadata": {},
   "source": [
    "En este punto quiero agrupar los datos por anos y simplicar el conteo"
   ]
  },
  {
   "cell_type": "code",
   "execution_count": 17,
   "metadata": {},
   "outputs": [
    {
     "name": "stdout",
     "output_type": "stream",
     "text": [
      "Año\n",
      "2020    1.275858e+08\n",
      "2021    1.633839e+08\n",
      "2022    2.521691e+08\n",
      "2023    5.226779e+08\n",
      "2024    7.882312e+08\n",
      "Name: Ingresos (miles de pesos), dtype: float64\n"
     ]
    }
   ],
   "source": [
    "# Agrupar los datos por año y sumar los ingresos\n",
    "ingresos_por_ano = df_ingreso_int.groupby('Año')['Ingresos (miles de pesos)'].sum()\n",
    "\n",
    "print(ingresos_por_ano)\n"
   ]
  },
  {
   "cell_type": "code",
   "execution_count": 18,
   "metadata": {},
   "outputs": [
    {
     "data": {
      "image/png": "[encoded data removed]",
      "text/plain": [
       "<Figure size 640x480 with 1 Axes>"
      ]
     },
     "metadata": {},
     "output_type": "display_data"
    }
   ],
   "source": [
    "# Graficar los ingresos por año\n",
    "ingresos_por_ano.plot(kind='bar', title='Ingresos por Año internet', xlabel='Año', ylabel='Ingresos', color='skyblue')\n",
    "plt.xticks(rotation=45)\n",
    "plt.tight_layout()\n",
    "plt.show()"
   ]
  },
  {
   "cell_type": "markdown",
   "metadata": {},
   "source": [
    "En este grafico claramente se puede demostrar el aumento de ingresos principalmente en 2023 y un alto crecimiento en lo que va de 2024"
   ]
  },
  {
   "cell_type": "markdown",
   "metadata": {},
   "source": [
    "Guardo mi dataset de ingresos de Internet"
   ]
  },
  {
   "cell_type": "code",
   "execution_count": 19,
   "metadata": {},
   "outputs": [],
   "source": [
    "df_ingreso_int.to_csv('df_ingreso_int.csv')"
   ]
  },
  {
   "cell_type": "markdown",
   "metadata": {},
   "source": [
    "ahora pasamos al 2do dataset telefonia movil, aqui quiero extraer tambien la hoja de ingreso en los ultimos 5 anos"
   ]
  },
  {
   "cell_type": "code",
   "execution_count": 20,
   "metadata": {},
   "outputs": [
    {
     "data": {
      "text/html": [
       "<div>\n",
       "<style scoped>\n",
       "    .dataframe tbody tr th:only-of-type {\n",
       "        vertical-align: middle;\n",
       "    }\n",
       "\n",
       "    .dataframe tbody tr th {\n",
       "        vertical-align: top;\n",
       "    }\n",
       "\n",
       "    .dataframe thead th {\n",
       "        text-align: right;\n",
       "    }\n",
       "</style>\n",
       "<table border=\"1\" class=\"dataframe\">\n",
       "  <thead>\n",
       "    <tr style=\"text-align: right;\">\n",
       "      <th></th>\n",
       "      <th>Año</th>\n",
       "      <th>Trimestre</th>\n",
       "      <th>Ingresos (miles de $)</th>\n",
       "      <th>Periodo</th>\n",
       "    </tr>\n",
       "  </thead>\n",
       "  <tbody>\n",
       "    <tr>\n",
       "      <th>0</th>\n",
       "      <td>2013</td>\n",
       "      <td>1</td>\n",
       "      <td>13135235</td>\n",
       "      <td>Ene-Mar 2013</td>\n",
       "    </tr>\n",
       "    <tr>\n",
       "      <th>1</th>\n",
       "      <td>2013</td>\n",
       "      <td>2</td>\n",
       "      <td>13970806</td>\n",
       "      <td>Abr-Jun 2013</td>\n",
       "    </tr>\n",
       "    <tr>\n",
       "      <th>2</th>\n",
       "      <td>2013</td>\n",
       "      <td>3</td>\n",
       "      <td>15235659</td>\n",
       "      <td>Jul-Sept 2013</td>\n",
       "    </tr>\n",
       "  </tbody>\n",
       "</table>\n",
       "</div>"
      ],
      "text/plain": [
       "    Año  Trimestre  Ingresos (miles de $)        Periodo\n",
       "0  2013          1               13135235   Ene-Mar 2013\n",
       "1  2013          2               13970806   Abr-Jun 2013\n",
       "2  2013          3               15235659  Jul-Sept 2013"
      ]
     },
     "execution_count": 20,
     "metadata": {},
     "output_type": "execute_result"
    }
   ],
   "source": [
    "df_ing_cel = pd.read_excel('Telefonia_movil.xlsx',sheet_name= 'Ingresos' )\n",
    "df_ing_cel.head(3)"
   ]
  },
  {
   "cell_type": "markdown",
   "metadata": {},
   "source": [
    "al igual que el caso de Internet quiero solo los ultimos 5 anos"
   ]
  },
  {
   "cell_type": "code",
   "execution_count": 21,
   "metadata": {},
   "outputs": [
    {
     "data": {
      "text/html": [
       "<div>\n",
       "<style scoped>\n",
       "    .dataframe tbody tr th:only-of-type {\n",
       "        vertical-align: middle;\n",
       "    }\n",
       "\n",
       "    .dataframe tbody tr th {\n",
       "        vertical-align: top;\n",
       "    }\n",
       "\n",
       "    .dataframe thead th {\n",
       "        text-align: right;\n",
       "    }\n",
       "</style>\n",
       "<table border=\"1\" class=\"dataframe\">\n",
       "  <thead>\n",
       "    <tr style=\"text-align: right;\">\n",
       "      <th></th>\n",
       "      <th>Año</th>\n",
       "      <th>Trimestre</th>\n",
       "      <th>Ingresos (miles de $)</th>\n",
       "      <th>Periodo</th>\n",
       "    </tr>\n",
       "  </thead>\n",
       "  <tbody>\n",
       "    <tr>\n",
       "      <th>28</th>\n",
       "      <td>2020</td>\n",
       "      <td>1</td>\n",
       "      <td>72077147</td>\n",
       "      <td>Ene-Mar 2020</td>\n",
       "    </tr>\n",
       "    <tr>\n",
       "      <th>29</th>\n",
       "      <td>2020</td>\n",
       "      <td>2</td>\n",
       "      <td>73538944</td>\n",
       "      <td>Abr-Jun 2020</td>\n",
       "    </tr>\n",
       "    <tr>\n",
       "      <th>30</th>\n",
       "      <td>2020</td>\n",
       "      <td>3</td>\n",
       "      <td>79634755</td>\n",
       "      <td>Jul-Sept 2020</td>\n",
       "    </tr>\n",
       "    <tr>\n",
       "      <th>31</th>\n",
       "      <td>2020</td>\n",
       "      <td>4</td>\n",
       "      <td>83479114</td>\n",
       "      <td>Oct-Dic 2020</td>\n",
       "    </tr>\n",
       "    <tr>\n",
       "      <th>32</th>\n",
       "      <td>2021</td>\n",
       "      <td>1</td>\n",
       "      <td>93112153</td>\n",
       "      <td>Ene-Mar 2021</td>\n",
       "    </tr>\n",
       "  </tbody>\n",
       "</table>\n",
       "</div>"
      ],
      "text/plain": [
       "     Año  Trimestre  Ingresos (miles de $)        Periodo\n",
       "28  2020          1               72077147   Ene-Mar 2020\n",
       "29  2020          2               73538944   Abr-Jun 2020\n",
       "30  2020          3               79634755  Jul-Sept 2020\n",
       "31  2020          4               83479114   Oct-Dic 2020\n",
       "32  2021          1               93112153   Ene-Mar 2021"
      ]
     },
     "execution_count": 21,
     "metadata": {},
     "output_type": "execute_result"
    }
   ],
   "source": [
    "# Filtrar el dataset para obtener solo los datos desde el año 2020 en adelante\n",
    "df_ing_cel = df_ing_cel[df_ing_cel['Año'] >= 2020]\n",
    "\n",
    "# Mostrar los primeros registros del dataset filtrado para confirmar\n",
    "df_ing_cel.head()"
   ]
  },
  {
   "cell_type": "markdown",
   "metadata": {},
   "source": [
    "Dimensiones del dataset"
   ]
  },
  {
   "cell_type": "code",
   "execution_count": 22,
   "metadata": {},
   "outputs": [
    {
     "data": {
      "text/plain": [
       "(18, 4)"
      ]
     },
     "execution_count": 22,
     "metadata": {},
     "output_type": "execute_result"
    }
   ],
   "source": [
    "df_ing_cel.shape"
   ]
  },
  {
   "cell_type": "markdown",
   "metadata": {},
   "source": [
    "Informacion del dataset"
   ]
  },
  {
   "cell_type": "code",
   "execution_count": 23,
   "metadata": {},
   "outputs": [
    {
     "name": "stdout",
     "output_type": "stream",
     "text": [
      "<class 'pandas.core.frame.DataFrame'>\n",
      "Index: 18 entries, 28 to 45\n",
      "Data columns (total 4 columns):\n",
      " #   Column                 Non-Null Count  Dtype \n",
      "---  ------                 --------------  ----- \n",
      " 0   Año                    18 non-null     int64 \n",
      " 1   Trimestre              18 non-null     int64 \n",
      " 2   Ingresos (miles de $)  18 non-null     int64 \n",
      " 3   Periodo                18 non-null     object\n",
      "dtypes: int64(3), object(1)\n",
      "memory usage: 720.0+ bytes\n"
     ]
    }
   ],
   "source": [
    "df_ing_cel.info()"
   ]
  },
  {
   "cell_type": "markdown",
   "metadata": {},
   "source": [
    "Igualmente se aprecia que los datos estan completos"
   ]
  },
  {
   "cell_type": "markdown",
   "metadata": {},
   "source": [
    "Descripcion de las filas numericas"
   ]
  },
  {
   "cell_type": "code",
   "execution_count": 24,
   "metadata": {},
   "outputs": [
    {
     "data": {
      "text/html": [
       "<div>\n",
       "<style scoped>\n",
       "    .dataframe tbody tr th:only-of-type {\n",
       "        vertical-align: middle;\n",
       "    }\n",
       "\n",
       "    .dataframe tbody tr th {\n",
       "        vertical-align: top;\n",
       "    }\n",
       "\n",
       "    .dataframe thead th {\n",
       "        text-align: right;\n",
       "    }\n",
       "</style>\n",
       "<table border=\"1\" class=\"dataframe\">\n",
       "  <thead>\n",
       "    <tr style=\"text-align: right;\">\n",
       "      <th></th>\n",
       "      <th>Año</th>\n",
       "      <th>Trimestre</th>\n",
       "      <th>Ingresos (miles de $)</th>\n",
       "    </tr>\n",
       "  </thead>\n",
       "  <tbody>\n",
       "    <tr>\n",
       "      <th>count</th>\n",
       "      <td>18.000000</td>\n",
       "      <td>18.000000</td>\n",
       "      <td>1.800000e+01</td>\n",
       "    </tr>\n",
       "    <tr>\n",
       "      <th>mean</th>\n",
       "      <td>2021.777778</td>\n",
       "      <td>2.388889</td>\n",
       "      <td>2.650084e+08</td>\n",
       "    </tr>\n",
       "    <tr>\n",
       "      <th>std</th>\n",
       "      <td>1.352799</td>\n",
       "      <td>1.144752</td>\n",
       "      <td>2.787495e+08</td>\n",
       "    </tr>\n",
       "    <tr>\n",
       "      <th>min</th>\n",
       "      <td>2020.000000</td>\n",
       "      <td>1.000000</td>\n",
       "      <td>7.207715e+07</td>\n",
       "    </tr>\n",
       "    <tr>\n",
       "      <th>25%</th>\n",
       "      <td>2021.000000</td>\n",
       "      <td>1.250000</td>\n",
       "      <td>9.602962e+07</td>\n",
       "    </tr>\n",
       "    <tr>\n",
       "      <th>50%</th>\n",
       "      <td>2022.000000</td>\n",
       "      <td>2.000000</td>\n",
       "      <td>1.417435e+08</td>\n",
       "    </tr>\n",
       "    <tr>\n",
       "      <th>75%</th>\n",
       "      <td>2023.000000</td>\n",
       "      <td>3.000000</td>\n",
       "      <td>2.948924e+08</td>\n",
       "    </tr>\n",
       "    <tr>\n",
       "      <th>max</th>\n",
       "      <td>2024.000000</td>\n",
       "      <td>4.000000</td>\n",
       "      <td>1.108473e+09</td>\n",
       "    </tr>\n",
       "  </tbody>\n",
       "</table>\n",
       "</div>"
      ],
      "text/plain": [
       "               Año  Trimestre  Ingresos (miles de $)\n",
       "count    18.000000  18.000000           1.800000e+01\n",
       "mean   2021.777778   2.388889           2.650084e+08\n",
       "std       1.352799   1.144752           2.787495e+08\n",
       "min    2020.000000   1.000000           7.207715e+07\n",
       "25%    2021.000000   1.250000           9.602962e+07\n",
       "50%    2022.000000   2.000000           1.417435e+08\n",
       "75%    2023.000000   3.000000           2.948924e+08\n",
       "max    2024.000000   4.000000           1.108473e+09"
      ]
     },
     "execution_count": 24,
     "metadata": {},
     "output_type": "execute_result"
    }
   ],
   "source": [
    "df_ing_cel.describe()"
   ]
  },
  {
   "cell_type": "markdown",
   "metadata": {},
   "source": [
    "no necesito las columnas Trimestre ni Periodo, asi que las elimino"
   ]
  },
  {
   "cell_type": "code",
   "execution_count": 25,
   "metadata": {},
   "outputs": [],
   "source": [
    "df_ing_cel =df_ing_cel.drop('Trimestre',axis=1)\n",
    "df_ing_cel=df_ing_cel.drop('Periodo',axis=1)"
   ]
  },
  {
   "cell_type": "code",
   "execution_count": 26,
   "metadata": {},
   "outputs": [
    {
     "name": "stdout",
     "output_type": "stream",
     "text": [
      "Valores nulos por columna:\n",
      " Año                      0\n",
      "Ingresos (miles de $)    0\n",
      "dtype: int64\n",
      "\n",
      "Valores faltantes por columna:\n",
      " Año                      0\n",
      "Ingresos (miles de $)    0\n",
      "dtype: int64\n"
     ]
    }
   ],
   "source": [
    "# Contar valores nulos en cada columna\n",
    "nulos_por_columna = df_ing_cel.isnull().sum()\n",
    "\n",
    "# Contar valores faltantes en cada columna\n",
    "faltantes_por_columna = df_ing_cel.isna().sum()\n",
    "\n",
    "print(\"Valores nulos por columna:\\n\", nulos_por_columna)\n",
    "print(\"\\nValores faltantes por columna:\\n\", faltantes_por_columna)\n"
   ]
  },
  {
   "cell_type": "markdown",
   "metadata": {},
   "source": [
    "No hay valores nulos"
   ]
  },
  {
   "cell_type": "markdown",
   "metadata": {},
   "source": [
    "ahora filas repetidas"
   ]
  },
  {
   "cell_type": "code",
   "execution_count": 27,
   "metadata": {},
   "outputs": [
    {
     "name": "stdout",
     "output_type": "stream",
     "text": [
      "el tamano antes de eliminar las filas (18, 2)\n",
      "el tamano despues de eliminar las filas (18, 2)\n"
     ]
    }
   ],
   "source": [
    "print(f'el tamano antes de eliminar las filas {df_ing_cel.shape}')\n",
    "df_ing_cel.drop_duplicates(inplace=True)\n",
    "print(f'el tamano despues de eliminar las filas {df_ing_cel.shape}')"
   ]
  },
  {
   "cell_type": "markdown",
   "metadata": {},
   "source": [
    "no hay fils repetidas"
   ]
  },
  {
   "cell_type": "markdown",
   "metadata": {},
   "source": [
    "Outliers para ingresos por telefonia"
   ]
  },
  {
   "cell_type": "code",
   "execution_count": 28,
   "metadata": {},
   "outputs": [
    {
     "data": {
      "image/png": "[encoded data removed]",
      "text/plain": [
       "<Figure size 1000x800 with 2 Axes>"
      ]
     },
     "metadata": {},
     "output_type": "display_data"
    }
   ],
   "source": [
    "columnas_num = ['Año','Ingresos (miles de $)']\n",
    "\n",
    "fig, ax = plt.subplots(nrows=2, ncols=1, figsize=(10,8))\n",
    "fig.subplots_adjust(hspace=0.5)\n",
    "\n",
    "for i, col in enumerate(columnas_num):\n",
    "    sns.boxplot(x=col, data=df_ing_cel, ax=ax[i])\n",
    "    ax[i].set_title(col)\n"
   ]
  },
  {
   "cell_type": "markdown",
   "metadata": {},
   "source": [
    "aqui apreciamos que no hay datos anomalos en Anos, mientras que estos datos extremos en ingresos no quiere decir que haya anomalias"
   ]
  },
  {
   "cell_type": "markdown",
   "metadata": {},
   "source": [
    "agrupar datos por ano e ingresos"
   ]
  },
  {
   "cell_type": "code",
   "execution_count": 29,
   "metadata": {},
   "outputs": [
    {
     "name": "stdout",
     "output_type": "stream",
     "text": [
      "Año\n",
      "2020     308729960\n",
      "2021     443035884\n",
      "2022     680077095\n",
      "2023    1460351166\n",
      "2024    1877957900\n",
      "Name: Ingresos (miles de $), dtype: int64\n"
     ]
    }
   ],
   "source": [
    "# Agrupar los datos por año y sumar los ingresos\n",
    "ingresos_por_ano_cel = df_ing_cel.groupby('Año')['Ingresos (miles de $)'].sum()\n",
    "\n",
    "print(ingresos_por_ano_cel)\n"
   ]
  },
  {
   "cell_type": "code",
   "execution_count": 30,
   "metadata": {},
   "outputs": [
    {
     "data": {
      "image/png": "[encoded data removed]",
      "text/plain": [
       "<Figure size 640x480 with 1 Axes>"
      ]
     },
     "metadata": {},
     "output_type": "display_data"
    }
   ],
   "source": [
    "# Graficar los ingresos por año telefonia\n",
    "ingresos_por_ano_cel.plot(kind='bar', title='Ingresos por Año telefonia', xlabel='Año', ylabel='Ingresos', color='skyblue')\n",
    "plt.xticks(rotation=45)\n",
    "plt.tight_layout()\n",
    "plt.show()"
   ]
  },
  {
   "cell_type": "markdown",
   "metadata": {},
   "source": [
    "Se observa un alto crecimiento exponencial a partir de 2023 y con unas altas cifras de ingreso, y para lo que va de 2024 mantiene un buen ritmo"
   ]
  },
  {
   "cell_type": "markdown",
   "metadata": {},
   "source": [
    "Pasamos al 3er dataset que es television"
   ]
  },
  {
   "cell_type": "markdown",
   "metadata": {},
   "source": [
    "extraigo la hoja ingresos "
   ]
  },
  {
   "cell_type": "code",
   "execution_count": 31,
   "metadata": {},
   "outputs": [],
   "source": [
    "df_ingreso_tv = pd.read_excel('Television.xlsx',sheet_name='Ingresos_TV')"
   ]
  },
  {
   "cell_type": "markdown",
   "metadata": {},
   "source": [
    "Filtrado de los ultimos 5 anos"
   ]
  },
  {
   "cell_type": "code",
   "execution_count": 32,
   "metadata": {},
   "outputs": [
    {
     "data": {
      "text/html": [
       "<div>\n",
       "<style scoped>\n",
       "    .dataframe tbody tr th:only-of-type {\n",
       "        vertical-align: middle;\n",
       "    }\n",
       "\n",
       "    .dataframe tbody tr th {\n",
       "        vertical-align: top;\n",
       "    }\n",
       "\n",
       "    .dataframe thead th {\n",
       "        text-align: right;\n",
       "    }\n",
       "</style>\n",
       "<table border=\"1\" class=\"dataframe\">\n",
       "  <thead>\n",
       "    <tr style=\"text-align: right;\">\n",
       "      <th></th>\n",
       "      <th>Año</th>\n",
       "      <th>Trimestre</th>\n",
       "      <th>Ingresos TV por suscripción  (miles de $)</th>\n",
       "      <th>Ingresos TV satelital (miles de $)</th>\n",
       "    </tr>\n",
       "  </thead>\n",
       "  <tbody>\n",
       "    <tr>\n",
       "      <th>0</th>\n",
       "      <td>2024</td>\n",
       "      <td>2</td>\n",
       "      <td>2.662339e+08</td>\n",
       "      <td>1.248149e+08</td>\n",
       "    </tr>\n",
       "    <tr>\n",
       "      <th>1</th>\n",
       "      <td>2024</td>\n",
       "      <td>1</td>\n",
       "      <td>1.910639e+08</td>\n",
       "      <td>9.427053e+07</td>\n",
       "    </tr>\n",
       "    <tr>\n",
       "      <th>2</th>\n",
       "      <td>2023</td>\n",
       "      <td>4</td>\n",
       "      <td>1.335822e+08</td>\n",
       "      <td>6.474882e+07</td>\n",
       "    </tr>\n",
       "  </tbody>\n",
       "</table>\n",
       "</div>"
      ],
      "text/plain": [
       "    Año  Trimestre  Ingresos TV por suscripción  (miles de $)  \\\n",
       "0  2024          2                               2.662339e+08   \n",
       "1  2024          1                               1.910639e+08   \n",
       "2  2023          4                               1.335822e+08   \n",
       "\n",
       "   Ingresos TV satelital (miles de $)  \n",
       "0                        1.248149e+08  \n",
       "1                        9.427053e+07  \n",
       "2                        6.474882e+07  "
      ]
     },
     "execution_count": 32,
     "metadata": {},
     "output_type": "execute_result"
    }
   ],
   "source": [
    "# Filtrar el dataset para obtener solo los datos desde el año 2020 en adelante\n",
    "df_ingreso_tv = df_ingreso_tv[df_ingreso_tv['Año'] >= 2020]\n",
    "\n",
    "# Mostrar los primeros registros del dataset filtrado para confirmar\n",
    "df_ingreso_tv.head(3)"
   ]
  },
  {
   "cell_type": "markdown",
   "metadata": {},
   "source": [
    "dimensiones del datset"
   ]
  },
  {
   "cell_type": "code",
   "execution_count": 33,
   "metadata": {},
   "outputs": [
    {
     "data": {
      "text/plain": [
       "(18, 4)"
      ]
     },
     "execution_count": 33,
     "metadata": {},
     "output_type": "execute_result"
    }
   ],
   "source": [
    "df_ingreso_tv.shape"
   ]
  },
  {
   "cell_type": "code",
   "execution_count": 34,
   "metadata": {},
   "outputs": [
    {
     "name": "stdout",
     "output_type": "stream",
     "text": [
      "<class 'pandas.core.frame.DataFrame'>\n",
      "Index: 18 entries, 0 to 17\n",
      "Data columns (total 4 columns):\n",
      " #   Column                                     Non-Null Count  Dtype  \n",
      "---  ------                                     --------------  -----  \n",
      " 0   Año                                        18 non-null     int64  \n",
      " 1   Trimestre                                  18 non-null     int64  \n",
      " 2   Ingresos TV por suscripción  (miles de $)  18 non-null     float64\n",
      " 3   Ingresos TV satelital (miles de $)         18 non-null     float64\n",
      "dtypes: float64(2), int64(2)\n",
      "memory usage: 720.0 bytes\n"
     ]
    }
   ],
   "source": [
    "df_ingreso_tv.info()"
   ]
  },
  {
   "cell_type": "markdown",
   "metadata": {},
   "source": [
    "al igual que los otros datasets no se observan datos nulos"
   ]
  },
  {
   "cell_type": "markdown",
   "metadata": {},
   "source": [
    "descripcion de columnas numericas"
   ]
  },
  {
   "cell_type": "code",
   "execution_count": 35,
   "metadata": {},
   "outputs": [
    {
     "data": {
      "text/html": [
       "<div>\n",
       "<style scoped>\n",
       "    .dataframe tbody tr th:only-of-type {\n",
       "        vertical-align: middle;\n",
       "    }\n",
       "\n",
       "    .dataframe tbody tr th {\n",
       "        vertical-align: top;\n",
       "    }\n",
       "\n",
       "    .dataframe thead th {\n",
       "        text-align: right;\n",
       "    }\n",
       "</style>\n",
       "<table border=\"1\" class=\"dataframe\">\n",
       "  <thead>\n",
       "    <tr style=\"text-align: right;\">\n",
       "      <th></th>\n",
       "      <th>Año</th>\n",
       "      <th>Trimestre</th>\n",
       "      <th>Ingresos TV por suscripción  (miles de $)</th>\n",
       "      <th>Ingresos TV satelital (miles de $)</th>\n",
       "    </tr>\n",
       "  </thead>\n",
       "  <tbody>\n",
       "    <tr>\n",
       "      <th>count</th>\n",
       "      <td>18.000000</td>\n",
       "      <td>18.000000</td>\n",
       "      <td>1.800000e+01</td>\n",
       "      <td>1.800000e+01</td>\n",
       "    </tr>\n",
       "    <tr>\n",
       "      <th>mean</th>\n",
       "      <td>2021.777778</td>\n",
       "      <td>2.388889</td>\n",
       "      <td>7.229943e+07</td>\n",
       "      <td>3.517534e+07</td>\n",
       "    </tr>\n",
       "    <tr>\n",
       "      <th>std</th>\n",
       "      <td>1.352799</td>\n",
       "      <td>1.144752</td>\n",
       "      <td>6.559290e+07</td>\n",
       "      <td>3.089603e+07</td>\n",
       "    </tr>\n",
       "    <tr>\n",
       "      <th>min</th>\n",
       "      <td>2020.000000</td>\n",
       "      <td>1.000000</td>\n",
       "      <td>2.462001e+07</td>\n",
       "      <td>1.235276e+07</td>\n",
       "    </tr>\n",
       "    <tr>\n",
       "      <th>25%</th>\n",
       "      <td>2021.000000</td>\n",
       "      <td>1.250000</td>\n",
       "      <td>3.236214e+07</td>\n",
       "      <td>1.803814e+07</td>\n",
       "    </tr>\n",
       "    <tr>\n",
       "      <th>50%</th>\n",
       "      <td>2022.000000</td>\n",
       "      <td>2.000000</td>\n",
       "      <td>4.421775e+07</td>\n",
       "      <td>2.241379e+07</td>\n",
       "    </tr>\n",
       "    <tr>\n",
       "      <th>75%</th>\n",
       "      <td>2023.000000</td>\n",
       "      <td>3.000000</td>\n",
       "      <td>8.394636e+07</td>\n",
       "      <td>3.732654e+07</td>\n",
       "    </tr>\n",
       "    <tr>\n",
       "      <th>max</th>\n",
       "      <td>2024.000000</td>\n",
       "      <td>4.000000</td>\n",
       "      <td>2.662339e+08</td>\n",
       "      <td>1.248149e+08</td>\n",
       "    </tr>\n",
       "  </tbody>\n",
       "</table>\n",
       "</div>"
      ],
      "text/plain": [
       "               Año  Trimestre  Ingresos TV por suscripción  (miles de $)  \\\n",
       "count    18.000000  18.000000                               1.800000e+01   \n",
       "mean   2021.777778   2.388889                               7.229943e+07   \n",
       "std       1.352799   1.144752                               6.559290e+07   \n",
       "min    2020.000000   1.000000                               2.462001e+07   \n",
       "25%    2021.000000   1.250000                               3.236214e+07   \n",
       "50%    2022.000000   2.000000                               4.421775e+07   \n",
       "75%    2023.000000   3.000000                               8.394636e+07   \n",
       "max    2024.000000   4.000000                               2.662339e+08   \n",
       "\n",
       "       Ingresos TV satelital (miles de $)  \n",
       "count                        1.800000e+01  \n",
       "mean                         3.517534e+07  \n",
       "std                          3.089603e+07  \n",
       "min                          1.235276e+07  \n",
       "25%                          1.803814e+07  \n",
       "50%                          2.241379e+07  \n",
       "75%                          3.732654e+07  \n",
       "max                          1.248149e+08  "
      ]
     },
     "execution_count": 35,
     "metadata": {},
     "output_type": "execute_result"
    }
   ],
   "source": [
    "df_ingreso_tv.describe()"
   ]
  },
  {
   "cell_type": "markdown",
   "metadata": {},
   "source": [
    "elimino la columna Trimestre"
   ]
  },
  {
   "cell_type": "code",
   "execution_count": 36,
   "metadata": {},
   "outputs": [],
   "source": [
    "df_ingreso_tv =df_ingreso_tv.drop('Trimestre',axis=1)\n"
   ]
  },
  {
   "cell_type": "markdown",
   "metadata": {},
   "source": [
    "validar valores nulos o faltantes"
   ]
  },
  {
   "cell_type": "code",
   "execution_count": 37,
   "metadata": {},
   "outputs": [
    {
     "name": "stdout",
     "output_type": "stream",
     "text": [
      "Valores nulos por columna:\n",
      " Año                                          0\n",
      "Ingresos TV por suscripción  (miles de $)    0\n",
      "Ingresos TV satelital (miles de $)           0\n",
      "dtype: int64\n",
      "\n",
      "Valores faltantes por columna:\n",
      " Año                                          0\n",
      "Ingresos TV por suscripción  (miles de $)    0\n",
      "Ingresos TV satelital (miles de $)           0\n",
      "dtype: int64\n"
     ]
    }
   ],
   "source": [
    "# Contar valores nulos en cada columna\n",
    "nulos_por_columna = df_ingreso_tv.isnull().sum()\n",
    "\n",
    "# Contar valores faltantes en cada columna\n",
    "faltantes_por_columna = df_ingreso_tv.isna().sum()\n",
    "\n",
    "print(\"Valores nulos por columna:\\n\", nulos_por_columna)\n",
    "print(\"\\nValores faltantes por columna:\\n\", faltantes_por_columna)\n"
   ]
  },
  {
   "cell_type": "markdown",
   "metadata": {},
   "source": [
    "valores duplicados"
   ]
  },
  {
   "cell_type": "code",
   "execution_count": 38,
   "metadata": {},
   "outputs": [
    {
     "name": "stdout",
     "output_type": "stream",
     "text": [
      "el tamano antes de eliminar las filas (18, 3)\n",
      "el tamano despues de eliminar las filas (18, 3)\n"
     ]
    }
   ],
   "source": [
    "print(f'el tamano antes de eliminar las filas {df_ingreso_tv.shape}')\n",
    "df_ingreso_tv.drop_duplicates(inplace=True)\n",
    "print(f'el tamano despues de eliminar las filas {df_ingreso_tv.shape}')"
   ]
  },
  {
   "cell_type": "markdown",
   "metadata": {},
   "source": [
    "Ahora valido los outliers"
   ]
  },
  {
   "cell_type": "code",
   "execution_count": 39,
   "metadata": {},
   "outputs": [
    {
     "data": {
      "image/png": "[encoded data removed]",
      "text/plain": [
       "<Figure size 1000x800 with 3 Axes>"
      ]
     },
     "metadata": {},
     "output_type": "display_data"
    }
   ],
   "source": [
    "columnas_num = ['Año','Ingresos TV por suscripción  (miles de $)','Ingresos TV satelital (miles de $)']\n",
    "\n",
    "fig, ax = plt.subplots(nrows=3, ncols=1, figsize=(10,8))\n",
    "fig.subplots_adjust(hspace=0.5)\n",
    "\n",
    "for i, col in enumerate(columnas_num):\n",
    "    sns.boxplot(x=col, data=df_ingreso_tv, ax=ax[i])\n",
    "    ax[i].set_title(col)"
   ]
  },
  {
   "cell_type": "markdown",
   "metadata": {},
   "source": [
    "al igual que el outlier de telefonia no se observan anomalias"
   ]
  },
  {
   "cell_type": "markdown",
   "metadata": {},
   "source": [
    "Aqui decido sumar los valores de TV por suscripcion y Tv saltelital, ya que busco una informacion en general "
   ]
  },
  {
   "cell_type": "code",
   "execution_count": 40,
   "metadata": {},
   "outputs": [],
   "source": [
    "df_ingreso_tv['ingresos_totales'] =df_ingreso_tv['Ingresos TV por suscripción  (miles de $)']+ df_ingreso_tv['Ingresos TV satelital (miles de $)']"
   ]
  },
  {
   "cell_type": "markdown",
   "metadata": {},
   "source": [
    "solamente necesito ano e ingresos por tv"
   ]
  },
  {
   "cell_type": "code",
   "execution_count": 41,
   "metadata": {},
   "outputs": [],
   "source": [
    "df_ingreso_tv = df_ingreso_tv[['Año','ingresos_totales']]"
   ]
  },
  {
   "cell_type": "markdown",
   "metadata": {},
   "source": [
    "ahora agrupo ano y el total de ingresos"
   ]
  },
  {
   "cell_type": "code",
   "execution_count": 42,
   "metadata": {},
   "outputs": [
    {
     "name": "stdout",
     "output_type": "stream",
     "text": [
      "Año\n",
      "2020    1.537880e+08\n",
      "2021    2.124253e+08\n",
      "2022    3.048902e+08\n",
      "2023    5.870591e+08\n",
      "2024    6.763832e+08\n",
      "Name: ingresos_totales, dtype: float64\n"
     ]
    }
   ],
   "source": [
    "# Agrupar los datos por año y sumar los ingresos\n",
    "ingresos_por_ano_tv = df_ingreso_tv.groupby('Año')['ingresos_totales'].sum()\n",
    "\n",
    "print(ingresos_por_ano_tv)"
   ]
  },
  {
   "cell_type": "code",
   "execution_count": 43,
   "metadata": {},
   "outputs": [
    {
     "data": {
      "image/png": "[encoded data removed]",
      "text/plain": [
       "<Figure size 640x480 with 1 Axes>"
      ]
     },
     "metadata": {},
     "output_type": "display_data"
    }
   ],
   "source": [
    "# Graficar los ingresos por año\n",
    "ingresos_por_ano_tv.plot(kind='bar', title='Ingresos por Año TV', xlabel='Año', ylabel='Ingresos', color='skyblue')\n",
    "plt.xticks(rotation=45)\n",
    "plt.tight_layout()\n",
    "plt.show()"
   ]
  },
  {
   "cell_type": "markdown",
   "metadata": {},
   "source": [
    "Se puede observar tambien un auge de los ingresos apartir de 2023 y que mantiene un crecimiento considerable para lo que va en 2024"
   ]
  },
  {
   "cell_type": "code",
   "execution_count": 44,
   "metadata": {},
   "outputs": [],
   "source": [
    "# Combinar los datos en un solo DataFrame\n",
    "ingresos_int_cel = pd.merge(ingresos_por_ano, ingresos_por_ano_cel, on=\"Año\")\n"
   ]
  },
  {
   "cell_type": "code",
   "execution_count": 45,
   "metadata": {},
   "outputs": [
    {
     "name": "stdout",
     "output_type": "stream",
     "text": [
      "      Ingresos (miles de pesos)  Ingresos (miles de $)  ingresos_totales\n",
      "Año                                                                     \n",
      "2020               1.275858e+08              308729960      1.537880e+08\n",
      "2021               1.633839e+08              443035884      2.124253e+08\n",
      "2022               2.521691e+08              680077095      3.048902e+08\n"
     ]
    }
   ],
   "source": [
    "ingresos_combinados = pd.merge(ingresos_int_cel,ingresos_por_ano_tv,on='Año')\n",
    "print(ingresos_combinados.head(3))"
   ]
  },
  {
   "cell_type": "code",
   "execution_count": 46,
   "metadata": {},
   "outputs": [
    {
     "name": "stdout",
     "output_type": "stream",
     "text": [
      "    Año  Ingresos (miles de pesos)  Ingresos (miles de $)  ingresos_totales\n",
      "0  2020               1.275858e+08              308729960      1.537880e+08\n",
      "1  2021               1.633839e+08              443035884      2.124253e+08\n",
      "2  2022               2.521691e+08              680077095      3.048902e+08\n",
      "3  2023               5.226779e+08             1460351166      5.870591e+08\n",
      "4  2024               7.882312e+08             1877957900      6.763832e+08\n"
     ]
    }
   ],
   "source": [
    "# Mover \"Año\" desde el índice a la fila superior como una columna\n",
    "ingresos_combinados.reset_index(inplace=True, drop=False)\n",
    "\n",
    "# Verificar el resultado\n",
    "print(ingresos_combinados.head())"
   ]
  },
  {
   "cell_type": "code",
   "execution_count": 47,
   "metadata": {},
   "outputs": [
    {
     "name": "stdout",
     "output_type": "stream",
     "text": [
      "    Año  Ingresos_Internet  Ingresos_telefonia   Ingresos_tv\n",
      "0  2020       1.275858e+08           308729960  1.537880e+08\n",
      "1  2021       1.633839e+08           443035884  2.124253e+08\n",
      "2  2022       2.521691e+08           680077095  3.048902e+08\n",
      "3  2023       5.226779e+08          1460351166  5.870591e+08\n",
      "4  2024       7.882312e+08          1877957900  6.763832e+08\n"
     ]
    }
   ],
   "source": [
    "# Renombrar las columnas\n",
    "ingresos_combinados.rename(columns={\n",
    "    \"Ingresos (miles de pesos)\": \"Ingresos_Internet\",\n",
    "    \"Ingresos (miles de $)\": \"Ingresos_telefonia\",\n",
    "    \"ingresos_totales\": \"Ingresos_tv\"\n",
    "}, inplace=True)\n",
    "\n",
    "# Confirmar los cambios\n",
    "print(ingresos_combinados.head())"
   ]
  },
  {
   "cell_type": "code",
   "execution_count": 48,
   "metadata": {},
   "outputs": [
    {
     "data": {
      "image/png": "[encoded data removed]",
      "text/plain": [
       "<Figure size 1000x600 with 1 Axes>"
      ]
     },
     "metadata": {},
     "output_type": "display_data"
    }
   ],
   "source": [
    "fig, ax = plt.subplots(figsize=(10, 6))\n",
    "\n",
    "# Graficar las barras apiladas\n",
    "ax.bar(ingresos_combinados['Año'], ingresos_combinados['Ingresos_Internet'], label='Internet')\n",
    "ax.bar(ingresos_combinados['Año'], ingresos_combinados['Ingresos_telefonia'], \n",
    "       bottom=ingresos_combinados['Ingresos_Internet'], label='Telefonía')\n",
    "ax.bar(ingresos_combinados['Año'], ingresos_combinados['Ingresos_tv'], \n",
    "       bottom=ingresos_combinados['Ingresos_Internet'] + ingresos_combinados['Ingresos_telefonia'], label='Televisión')\n",
    "\n",
    "# Etiquetas y título\n",
    "ax.set_title('Ingresos por tecnología a lo largo del tiempo')\n",
    "ax.set_xlabel('Año')\n",
    "ax.set_ylabel('Ingresos')\n",
    "ax.legend(title='Tecnologías')\n",
    "\n",
    "plt.show()\n",
    "\n"
   ]
  },
  {
   "cell_type": "markdown",
   "metadata": {},
   "source": [
    "En este grafico podemos observar que la tecnologias que genera ingresos considerablemente es la telefonia, seguido por el Internet y por ultimo la television"
   ]
  },
  {
   "cell_type": "markdown",
   "metadata": {},
   "source": [
    "CONCLUSIONES"
   ]
  },
  {
   "cell_type": "markdown",
   "metadata": {},
   "source": [
    "Segun los datos observados se aprecia que la tecnologia de telecomunicaciones  \n",
    "- El negocio de Internet es la segunda tecnologia que presenta mayor ingreso solo superado por telefonia\n",
    "\n",
    "- las telecomunicaciones en general siempre han presentado incremento a lo largo de los anos, el salto se da en 2023, y con solo 2 trimestres de 2024 se obseva una tendencia a seguir creciendo de manera exponencial "
   ]
  },
  {
   "cell_type": "markdown",
   "metadata": {},
   "source": [
    "OTROS ANALISIS\n",
    "\n",
    "En este punto quiero ver como son los accesos de tecnologias y las velocidades por provincias y determinar si existen posibles nichos de negocio"
   ]
  },
  {
   "cell_type": "code",
   "execution_count": 49,
   "metadata": {},
   "outputs": [],
   "source": [
    "\n",
    "# Cargar las hojas de cálculo\n",
    "\n",
    "totales_vmd_df = pd.read_excel(ruta, sheet_name='Totales VMD')\n",
    "velocidad_por_prov_df = pd.read_excel(ruta, sheet_name='Velocidad % por prov')\n",
    "totales_accesos_df = pd.read_excel(ruta, sheet_name='Totales Accesos por rango')\n",
    "accesos_tec_df = pd.read_excel(ruta, sheet_name='Accesos Por Tecnología')"
   ]
  },
  {
   "cell_type": "code",
   "execution_count": 50,
   "metadata": {},
   "outputs": [
    {
     "name": "stdout",
     "output_type": "stream",
     "text": [
      "Resumen de Totales VMD:\n",
      "               Año  Trimestre  Mbps (Media de bajada)\n",
      "count    42.000000  42.000000               42.000000\n",
      "mean   2018.761905   2.452381               39.334762\n",
      "std       3.074756   1.130560               43.643195\n",
      "min    2014.000000   1.000000                3.617127\n",
      "25%    2016.000000   1.250000                6.038428\n",
      "50%    2019.000000   2.000000               18.855000\n",
      "75%    2021.000000   3.000000               51.370000\n",
      "max    2024.000000   4.000000              139.250000\n",
      "\n",
      "Resumen de Velocidad % por prov:\n",
      "               Año    Trimestre  Mbps (Media de bajada)\n",
      "count  1008.000000  1008.000000             1008.000000\n",
      "mean   2018.761905     2.452381               24.720245\n",
      "std       3.039439     1.117574               33.660764\n",
      "min    2014.000000     1.000000                2.573729\n",
      "25%    2016.000000     1.000000                4.866698\n",
      "50%    2019.000000     2.000000               10.089315\n",
      "75%    2021.000000     3.000000               29.875292\n",
      "max    2024.000000     4.000000              234.440000\n",
      "\n",
      "Resumen de Totales Accesos por rango:\n",
      "               Año  Trimestre  Hasta 512 kbps  Entre 512 Kbps y 1 Mbps  \\\n",
      "count    42.000000  42.000000       42.000000                42.000000   \n",
      "mean   2018.761905   2.452381    46756.595238            215615.285714   \n",
      "std       3.074756   1.130560    48922.973593            192134.704593   \n",
      "min    2014.000000   1.000000     5675.000000             28521.000000   \n",
      "25%    2016.000000   1.250000    29027.750000             69951.750000   \n",
      "50%    2019.000000   2.000000    34960.000000            150273.000000   \n",
      "75%    2021.000000   3.000000    41057.500000            279159.250000   \n",
      "max    2024.000000   4.000000   241713.000000            687619.000000   \n",
      "\n",
      "       Entre 1 Mbps y 6 Mbps  Entre 6 Mbps y 10 Mbps  Entre 10 Mbps y 20 Mbps  \\\n",
      "count           4.200000e+01            4.200000e+01             4.200000e+01   \n",
      "mean            3.176365e+06            9.154819e+05             8.844276e+05   \n",
      "std             1.552136e+06            2.293758e+05             4.515900e+05   \n",
      "min             8.402000e+05            2.891820e+05             1.011270e+05   \n",
      "25%             1.692724e+06            8.623452e+05             6.774355e+05   \n",
      "50%             3.313002e+06            9.787620e+05             7.929725e+05   \n",
      "75%             4.780396e+06            1.058518e+06             1.022656e+06   \n",
      "max             5.153437e+06            1.245333e+06             2.068087e+06   \n",
      "\n",
      "       Entre 20 Mbps y 30 Mbps  Más de 30 Mbps          OTROS         Total  \n",
      "count             4.200000e+01    4.200000e+01      42.000000  4.200000e+01  \n",
      "mean              4.783656e+05    2.909772e+06  154081.071429  8.780865e+06  \n",
      "std               4.334343e+05    3.138715e+06  132453.955052  1.772655e+06  \n",
      "min               3.450000e+02    1.159500e+04       0.000000  6.272846e+06  \n",
      "25%               1.358035e+05    3.291400e+04       0.000000  7.151638e+06  \n",
      "50%               3.612495e+05    1.408279e+06  176235.500000  8.720658e+06  \n",
      "75%               5.925450e+05    5.761285e+06  242214.000000  1.038873e+07  \n",
      "max               1.688748e+06    8.363694e+06  414754.000000  1.163316e+07  \n",
      "\n",
      "Resumen de Totales Accesos por tecnologia:\n",
      "               ADSL    Cablemodem  Fibra óptica       Wireless         Otros  \\\n",
      "count  1.007000e+03  1.007000e+03  1.007000e+03    1007.000000   1007.000000   \n",
      "mean   1.129309e+05  1.821583e+05  4.855699e+04   12542.229394   6497.041708   \n",
      "std    2.362922e+05  4.460058e+05  1.758694e+05   20909.412762  11239.855091   \n",
      "min    2.230000e+03  0.000000e+00  0.000000e+00       0.000000      2.000000   \n",
      "25%    1.978950e+04  1.102050e+04  3.540000e+02     813.000000    334.500000   \n",
      "50%    4.396700e+04  4.075000e+04  3.015000e+03    5224.000000   1920.000000   \n",
      "75%    8.722000e+04  7.678350e+04  2.925700e+04   14367.500000   7548.000000   \n",
      "max    1.586343e+06  2.797700e+06  1.849476e+06  138638.000000  73415.000000   \n",
      "\n",
      "              Total  \n",
      "count  1.007000e+03  \n",
      "mean   3.626854e+05  \n",
      "std    7.773137e+05  \n",
      "min    1.255700e+04  \n",
      "25%    6.241150e+04  \n",
      "50%    1.139150e+05  \n",
      "75%    1.956520e+05  \n",
      "max    5.011620e+06  \n"
     ]
    }
   ],
   "source": [
    "# Mostrar un resumen de los datos\n",
    "print(\"Resumen de Totales VMD:\")\n",
    "print(totales_vmd_df.describe())\n",
    "print(\"\\nResumen de Velocidad % por prov:\")\n",
    "print(velocidad_por_prov_df.describe())\n",
    "print(\"\\nResumen de Totales Accesos por rango:\")\n",
    "print(totales_accesos_df.describe())\n",
    "print(\"\\nResumen de Totales Accesos por tecnologia:\")\n",
    "print(accesos_tec_df.describe())"
   ]
  },
  {
   "cell_type": "code",
   "execution_count": 51,
   "metadata": {},
   "outputs": [
    {
     "name": "stdout",
     "output_type": "stream",
     "text": [
      "\n",
      "Datos faltantes en Totales VMD:\n",
      "Año                       0\n",
      "Trimestre                 0\n",
      "Mbps (Media de bajada)    0\n",
      "Trimestre.1               0\n",
      "dtype: int64\n",
      "\n",
      "Datos faltantes en Velocidad % por prov:\n",
      "Año                       0\n",
      "Trimestre                 0\n",
      "Provincia                 0\n",
      "Mbps (Media de bajada)    0\n",
      "dtype: int64\n",
      "\n",
      "Datos faltantes en Totales Accesos por rango:\n",
      "Año                        0\n",
      "Trimestre                  0\n",
      "Hasta 512 kbps             0\n",
      "Entre 512 Kbps y 1 Mbps    0\n",
      "Entre 1 Mbps y 6 Mbps      0\n",
      "Entre 6 Mbps y 10 Mbps     0\n",
      "Entre 10 Mbps y 20 Mbps    0\n",
      "Entre 20 Mbps y 30 Mbps    0\n",
      "Más de 30 Mbps             0\n",
      "OTROS                      0\n",
      "Total                      0\n",
      "dtype: int64\n",
      "\n",
      "Datos faltantes en Accesos por tecnologia:\n",
      "Año             1\n",
      "Trimestre       1\n",
      "Provincia       2\n",
      "ADSL            2\n",
      "Cablemodem      2\n",
      "Fibra óptica    2\n",
      "Wireless        2\n",
      "Otros           2\n",
      "Total           2\n",
      "dtype: int64\n"
     ]
    }
   ],
   "source": [
    "# Verificar datos faltantes\n",
    "print(\"\\nDatos faltantes en Totales VMD:\")\n",
    "print(totales_vmd_df.isnull().sum())\n",
    "print(\"\\nDatos faltantes en Velocidad % por prov:\")\n",
    "print(velocidad_por_prov_df.isnull().sum())\n",
    "print(\"\\nDatos faltantes en Totales Accesos por rango:\")\n",
    "print(totales_accesos_df.isnull().sum())\n",
    "print(\"\\nDatos faltantes en Accesos por tecnologia:\")\n",
    "print(accesos_tec_df.isnull().sum())"
   ]
  },
  {
   "cell_type": "markdown",
   "metadata": {},
   "source": [
    "Aqui puedo ver que accesos por tecnologia tiene valores faltantes"
   ]
  },
  {
   "cell_type": "code",
   "execution_count": 52,
   "metadata": {},
   "outputs": [
    {
     "name": "stdout",
     "output_type": "stream",
     "text": [
      "(1009, 9)\n",
      "9\n"
     ]
    }
   ],
   "source": [
    "print(accesos_tec_df.shape)\n",
    "print(accesos_tec_df.isnull().sum().count())"
   ]
  },
  {
   "cell_type": "markdown",
   "metadata": {},
   "source": [
    "veo que es un dataset de 1009 filas con 9 valores faltantes, lo que representa menos del 5% , en este punto no quiero peder datos importantes asi que cada columna tendra una consireracion unica a tomar"
   ]
  },
  {
   "cell_type": "code",
   "execution_count": 53,
   "metadata": {},
   "outputs": [
    {
     "data": {
      "text/html": [
       "<div>\n",
       "<style scoped>\n",
       "    .dataframe tbody tr th:only-of-type {\n",
       "        vertical-align: middle;\n",
       "    }\n",
       "\n",
       "    .dataframe tbody tr th {\n",
       "        vertical-align: top;\n",
       "    }\n",
       "\n",
       "    .dataframe thead th {\n",
       "        text-align: right;\n",
       "    }\n",
       "</style>\n",
       "<table border=\"1\" class=\"dataframe\">\n",
       "  <thead>\n",
       "    <tr style=\"text-align: right;\">\n",
       "      <th></th>\n",
       "      <th>Año</th>\n",
       "      <th>Trimestre</th>\n",
       "      <th>Provincia</th>\n",
       "      <th>ADSL</th>\n",
       "      <th>Cablemodem</th>\n",
       "      <th>Fibra óptica</th>\n",
       "      <th>Wireless</th>\n",
       "      <th>Otros</th>\n",
       "      <th>Total</th>\n",
       "    </tr>\n",
       "  </thead>\n",
       "  <tbody>\n",
       "    <tr>\n",
       "      <th>0</th>\n",
       "      <td>2024</td>\n",
       "      <td>2</td>\n",
       "      <td>Buenos Aires</td>\n",
       "      <td>214055.0</td>\n",
       "      <td>2722466.0</td>\n",
       "      <td>1849476.0</td>\n",
       "      <td>138638.0</td>\n",
       "      <td>64745.0</td>\n",
       "      <td>4989380.0</td>\n",
       "    </tr>\n",
       "    <tr>\n",
       "      <th>1</th>\n",
       "      <td>2024</td>\n",
       "      <td>2</td>\n",
       "      <td>Capital Federal</td>\n",
       "      <td>54102.0</td>\n",
       "      <td>1144781.0</td>\n",
       "      <td>230402.0</td>\n",
       "      <td>4493.0</td>\n",
       "      <td>29821.0</td>\n",
       "      <td>1463599.0</td>\n",
       "    </tr>\n",
       "    <tr>\n",
       "      <th>2</th>\n",
       "      <td>2024</td>\n",
       "      <td>2</td>\n",
       "      <td>Catamarca</td>\n",
       "      <td>4951.0</td>\n",
       "      <td>10303.0</td>\n",
       "      <td>58355.0</td>\n",
       "      <td>1384.0</td>\n",
       "      <td>81.0</td>\n",
       "      <td>75074.0</td>\n",
       "    </tr>\n",
       "    <tr>\n",
       "      <th>3</th>\n",
       "      <td>2024</td>\n",
       "      <td>2</td>\n",
       "      <td>Chaco</td>\n",
       "      <td>9448.0</td>\n",
       "      <td>57935.0</td>\n",
       "      <td>68944.0</td>\n",
       "      <td>8407.0</td>\n",
       "      <td>2358.0</td>\n",
       "      <td>147092.0</td>\n",
       "    </tr>\n",
       "    <tr>\n",
       "      <th>4</th>\n",
       "      <td>2024</td>\n",
       "      <td>2</td>\n",
       "      <td>Chubut</td>\n",
       "      <td>25955.0</td>\n",
       "      <td>80704.0</td>\n",
       "      <td>26516.0</td>\n",
       "      <td>31118.0</td>\n",
       "      <td>9930.0</td>\n",
       "      <td>174223.0</td>\n",
       "    </tr>\n",
       "  </tbody>\n",
       "</table>\n",
       "</div>"
      ],
      "text/plain": [
       "    Año Trimestre        Provincia      ADSL  Cablemodem  Fibra óptica  \\\n",
       "0  2024         2     Buenos Aires  214055.0   2722466.0     1849476.0   \n",
       "1  2024         2  Capital Federal   54102.0   1144781.0      230402.0   \n",
       "2  2024         2        Catamarca    4951.0     10303.0       58355.0   \n",
       "3  2024         2            Chaco    9448.0     57935.0       68944.0   \n",
       "4  2024         2           Chubut   25955.0     80704.0       26516.0   \n",
       "\n",
       "   Wireless    Otros      Total  \n",
       "0  138638.0  64745.0  4989380.0  \n",
       "1    4493.0  29821.0  1463599.0  \n",
       "2    1384.0     81.0    75074.0  \n",
       "3    8407.0   2358.0   147092.0  \n",
       "4   31118.0   9930.0   174223.0  "
      ]
     },
     "execution_count": 53,
     "metadata": {},
     "output_type": "execute_result"
    }
   ],
   "source": [
    "accesos_tec_df.head(5)"
   ]
  },
  {
   "cell_type": "code",
   "execution_count": 54,
   "metadata": {},
   "outputs": [
    {
     "name": "stdout",
     "output_type": "stream",
     "text": [
      "Filas con valores faltantes:\n",
      "      Año                                          Trimestre Provincia  ADSL  \\\n",
      "1007  NaN                                                NaN       NaN   NaN   \n",
      "1008    *  Los datos provinciales no coinciden a nivel na...       NaN   NaN   \n",
      "\n",
      "      Cablemodem  Fibra óptica  Wireless  Otros  Total  \n",
      "1007         NaN           NaN       NaN    NaN    NaN  \n",
      "1008         NaN           NaN       NaN    NaN    NaN  \n"
     ]
    }
   ],
   "source": [
    "# Ver las filas con valores faltantes\n",
    "filas_con_faltantes = accesos_tec_df[accesos_tec_df.isnull().any(axis=1)]\n",
    "print(\"Filas con valores faltantes:\")\n",
    "print(filas_con_faltantes)\n"
   ]
  },
  {
   "cell_type": "code",
   "execution_count": 55,
   "metadata": {},
   "outputs": [
    {
     "name": "stdout",
     "output_type": "stream",
     "text": [
      "Año             NaN\n",
      "Trimestre       NaN\n",
      "Provincia       NaN\n",
      "ADSL            NaN\n",
      "Cablemodem      NaN\n",
      "Fibra óptica    NaN\n",
      "Wireless        NaN\n",
      "Otros           NaN\n",
      "Total           NaN\n",
      "Name: 1007, dtype: object\n",
      "Año                                                             *\n",
      "Trimestre       Los datos provinciales no coinciden a nivel na...\n",
      "Provincia                                                     NaN\n",
      "ADSL                                                          NaN\n",
      "Cablemodem                                                    NaN\n",
      "Fibra óptica                                                  NaN\n",
      "Wireless                                                      NaN\n",
      "Otros                                                         NaN\n",
      "Total                                                         NaN\n",
      "Name: 1008, dtype: object\n"
     ]
    }
   ],
   "source": [
    "print(accesos_tec_df.iloc[1007])\n",
    "print(accesos_tec_df.iloc[1008])"
   ]
  },
  {
   "cell_type": "markdown",
   "metadata": {},
   "source": [
    "Para irme por lo seguro elimino completamente las filas 1007 y 1008 solamente"
   ]
  },
  {
   "cell_type": "code",
   "execution_count": 56,
   "metadata": {},
   "outputs": [],
   "source": [
    "accesos_tec_df.drop(index=accesos_tec_df.index[[1007,1008]], inplace=True)\n"
   ]
  },
  {
   "cell_type": "markdown",
   "metadata": {},
   "source": [
    "valido nuevamente"
   ]
  },
  {
   "cell_type": "code",
   "execution_count": 57,
   "metadata": {},
   "outputs": [
    {
     "name": "stdout",
     "output_type": "stream",
     "text": [
      "\n",
      "Datos faltantes en Accesos por tecnologia:\n",
      "Año             0\n",
      "Trimestre       0\n",
      "Provincia       0\n",
      "ADSL            0\n",
      "Cablemodem      0\n",
      "Fibra óptica    0\n",
      "Wireless        0\n",
      "Otros           0\n",
      "Total           0\n",
      "dtype: int64\n"
     ]
    }
   ],
   "source": [
    "print(\"\\nDatos faltantes en Accesos por tecnologia:\")\n",
    "print(accesos_tec_df.isnull().sum())"
   ]
  },
  {
   "cell_type": "markdown",
   "metadata": {},
   "source": [
    "se puede apreciar que el dataset accesos por tecnologias tiene sus columnas limpias de faltantes o nulos"
   ]
  },
  {
   "cell_type": "markdown",
   "metadata": {},
   "source": [
    "TRATAMIENTO DE VALORES DUPLICADOS"
   ]
  },
  {
   "cell_type": "code",
   "execution_count": 58,
   "metadata": {},
   "outputs": [
    {
     "name": "stdout",
     "output_type": "stream",
     "text": [
      "\n",
      "Duplicados en Totales VMD: 0\n",
      "\n",
      "Duplicados en velocidad x prov: 0\n",
      "\n",
      "Duplicados en totales acceso: 0\n",
      "\n",
      "Duplicados en accesos por tecnologia: 0\n"
     ]
    }
   ],
   "source": [
    "print(\"\\nDuplicados en Totales VMD:\", totales_vmd_df.duplicated().sum())\n",
    "print(\"\\nDuplicados en velocidad x prov:\", velocidad_por_prov_df.duplicated().sum())\n",
    "print(\"\\nDuplicados en totales acceso:\", totales_accesos_df.duplicated().sum())\n",
    "print(\"\\nDuplicados en accesos por tecnologia:\", accesos_tec_df.duplicated().sum())"
   ]
  },
  {
   "cell_type": "markdown",
   "metadata": {},
   "source": [
    "no tenemos valores duplicados en nuestros datasets a trabajar"
   ]
  },
  {
   "cell_type": "code",
   "execution_count": 59,
   "metadata": {},
   "outputs": [
    {
     "data": {
      "image/png": "[encoded data removed]",
      "text/plain": [
       "<Figure size 1000x400 with 1 Axes>"
      ]
     },
     "metadata": {},
     "output_type": "display_data"
    }
   ],
   "source": [
    "# Gráfico de distribución y outliers de Totales VMD\n",
    "plt.figure(figsize=(10, 4))\n",
    "sns.histplot(totales_vmd_df['Mbps (Media de bajada)'], kde=True)\n",
    "plt.title('Distribución de VMD')\n",
    "plt.show()\n"
   ]
  },
  {
   "cell_type": "markdown",
   "metadata": {},
   "source": [
    "Puedo validar en la distribucion de descargas en cuanto a velocidad que la mayor parte se sentra entre 1 y 20Mbps, esto me da muestra de una amplia tendencia de las necesidades de la poblacion "
   ]
  },
  {
   "cell_type": "code",
   "execution_count": 60,
   "metadata": {},
   "outputs": [
    {
     "data": {
      "image/png": "[encoded data removed]",
      "text/plain": [
       "<Figure size 1000x400 with 1 Axes>"
      ]
     },
     "metadata": {},
     "output_type": "display_data"
    },
    {
     "data": {
      "image/png": "[encoded data removed]",
      "text/plain": [
       "<Figure size 1000x400 with 1 Axes>"
      ]
     },
     "metadata": {},
     "output_type": "display_data"
    },
    {
     "data": {
      "image/png": "[encoded data removed]",
      "text/plain": [
       "<Figure size 1000x400 with 1 Axes>"
      ]
     },
     "metadata": {},
     "output_type": "display_data"
    }
   ],
   "source": [
    "plt.figure(figsize=(10, 4))\n",
    "sns.boxplot(x=totales_vmd_df['Mbps (Media de bajada)'])\n",
    "plt.title('Outliers en VMD')\n",
    "plt.show()\n",
    "\n",
    "\n",
    "plt.figure(figsize=(10, 4))\n",
    "sns.boxplot(x=velocidad_por_prov_df['Mbps (Media de bajada)'])\n",
    "plt.title('Outliers en Velocidad % por Provincia')\n",
    "plt.show()\n",
    "\n",
    "\n",
    "plt.figure(figsize=(10, 4))\n",
    "sns.boxplot(x=totales_accesos_df['Total'])\n",
    "plt.title('Outliers en Totales Accesos por Rango')\n",
    "plt.show()\n",
    "\n",
    "\n",
    "\n"
   ]
  },
  {
   "cell_type": "code",
   "execution_count": 61,
   "metadata": {},
   "outputs": [
    {
     "data": {
      "text/html": [
       "<div>\n",
       "<style scoped>\n",
       "    .dataframe tbody tr th:only-of-type {\n",
       "        vertical-align: middle;\n",
       "    }\n",
       "\n",
       "    .dataframe tbody tr th {\n",
       "        vertical-align: top;\n",
       "    }\n",
       "\n",
       "    .dataframe thead th {\n",
       "        text-align: right;\n",
       "    }\n",
       "</style>\n",
       "<table border=\"1\" class=\"dataframe\">\n",
       "  <thead>\n",
       "    <tr style=\"text-align: right;\">\n",
       "      <th></th>\n",
       "      <th>Año</th>\n",
       "      <th>Trimestre</th>\n",
       "      <th>Mbps (Media de bajada)</th>\n",
       "      <th>Trimestre.1</th>\n",
       "    </tr>\n",
       "  </thead>\n",
       "  <tbody>\n",
       "    <tr>\n",
       "      <th>0</th>\n",
       "      <td>2024</td>\n",
       "      <td>2</td>\n",
       "      <td>139.25</td>\n",
       "      <td>Abr-Jun 2024</td>\n",
       "    </tr>\n",
       "    <tr>\n",
       "      <th>1</th>\n",
       "      <td>2024</td>\n",
       "      <td>1</td>\n",
       "      <td>139.15</td>\n",
       "      <td>Ene-Mar 2024</td>\n",
       "    </tr>\n",
       "    <tr>\n",
       "      <th>2</th>\n",
       "      <td>2023</td>\n",
       "      <td>4</td>\n",
       "      <td>139.04</td>\n",
       "      <td>Oct-Dic 2023</td>\n",
       "    </tr>\n",
       "    <tr>\n",
       "      <th>3</th>\n",
       "      <td>2023</td>\n",
       "      <td>3</td>\n",
       "      <td>129.67</td>\n",
       "      <td>Jul-Sept 2023</td>\n",
       "    </tr>\n",
       "    <tr>\n",
       "      <th>4</th>\n",
       "      <td>2023</td>\n",
       "      <td>2</td>\n",
       "      <td>123.95</td>\n",
       "      <td>Abr-Jun 2023</td>\n",
       "    </tr>\n",
       "  </tbody>\n",
       "</table>\n",
       "</div>"
      ],
      "text/plain": [
       "    Año  Trimestre  Mbps (Media de bajada)    Trimestre.1\n",
       "0  2024          2                  139.25   Abr-Jun 2024\n",
       "1  2024          1                  139.15   Ene-Mar 2024\n",
       "2  2023          4                  139.04   Oct-Dic 2023\n",
       "3  2023          3                  129.67  Jul-Sept 2023\n",
       "4  2023          2                  123.95   Abr-Jun 2023"
      ]
     },
     "execution_count": 61,
     "metadata": {},
     "output_type": "execute_result"
    }
   ],
   "source": [
    "totales_vmd_df.head()\n"
   ]
  },
  {
   "cell_type": "markdown",
   "metadata": {},
   "source": [
    "AHORA PASO A LA SIGUIENTE ETAPA PARA VALIDAR CUALES SON LOS TIPOS DE PLANES DE INTERNET MAS UTILIZADOS, PARA ELLO TRABAJARE EN EL DATASET TOTALES ACCESO"
   ]
  },
  {
   "cell_type": "code",
   "execution_count": 62,
   "metadata": {},
   "outputs": [
    {
     "data": {
      "image/png": "[encoded data removed]",
      "text/plain": [
       "<Figure size 1400x600 with 1 Axes>"
      ]
     },
     "metadata": {},
     "output_type": "display_data"
    }
   ],
   "source": [
    "# Selecciona las columnas que quieres visualizar\n",
    "columns_vel = ['Hasta 512 kbps', 'Entre 512 Kbps y 1 Mbps', 'Entre 1 Mbps y 6 Mbps','Entre 6 Mbps y 10 Mbps','Entre 10 Mbps y 20 Mbps','Entre 20 Mbps y 30 Mbps']\n",
    "data = totales_accesos_df[columns_vel]\n",
    "\n",
    "# Transforma el DataFrame a formato largo\n",
    "data_melted_vel = data.melt(var_name='Variable', value_name='Valores')\n",
    "\n",
    "# Configura el tamaño del gráfico\n",
    "plt.figure(figsize=(14, 6))\n",
    "\n",
    "# Genera el gráfico de barras\n",
    "sns.barplot(x='Variable', y='Valores', data=data_melted_vel, errorbar=None)\n",
    "\n",
    "# Personaliza el gráfico\n",
    "plt.title('Gráfico de Barras de Múltiples Variables')\n",
    "plt.xlabel('Variables')\n",
    "plt.ylabel('Valores Promedio')\n",
    "plt.show()\n"
   ]
  },
  {
   "cell_type": "markdown",
   "metadata": {},
   "source": [
    "Aqui valido que los planes de internet mas adquiridos estan entre 1 y 6 Mbps, mientras tambien sea aprecia bajos promedios entre planes que estan desde 512 Kbps a 1 Mbps, por otro lado se aprecia tambien bajo planes que van desde los 6 hasta los 30 Mbps esto nos una idea de inversion, llevar el mayor porcentaje de la cantidad de clientes que estan entre 1 y 6a los planes superiores ofreciendoles membresias premiun, pero en general se observa un amplio mercado para atacar, por otro lado es muy baja la poblacion que esta entre 512kbps y 1 Mbps."
   ]
  },
  {
   "cell_type": "markdown",
   "metadata": {},
   "source": [
    "Esto me lleva al siguiente paso, trabajar el dataset velocidad por provincias, y validar cuales son las ciudades que presentan mas uso de internet en velocidades que van desde 1 a 6 Mbps"
   ]
  },
  {
   "cell_type": "code",
   "execution_count": 63,
   "metadata": {},
   "outputs": [],
   "source": [
    "# Filtra el DataFrame para mostrar solo las ciudades con valores promedio entre 1 y 6 Mbps\n",
    "velocidad_filtrada = velocidad_por_prov_df[\n",
    "    (velocidad_por_prov_df['Mbps (Media de bajada)'] >= 1) & \n",
    "    (velocidad_por_prov_df['Mbps (Media de bajada)'] <= 6) \n",
    "]"
   ]
  },
  {
   "cell_type": "code",
   "execution_count": 64,
   "metadata": {},
   "outputs": [
    {
     "name": "stdout",
     "output_type": "stream",
     "text": [
      "Provincia\n",
      "Santa Cruz             23\n",
      "La Pampa               23\n",
      "Mendoza                21\n",
      "San Juan               21\n",
      "Chubut                 19\n",
      "Tierra Del Fuego       19\n",
      "La Rioja               18\n",
      "San Luis               18\n",
      "Santiago Del Estero    17\n",
      "Catamarca              15\n",
      "Jujuy                  15\n",
      "Río Negro              15\n",
      "Salta                  14\n",
      "Entre Ríos             13\n",
      "Formosa                13\n",
      "Tucumán                13\n",
      "Neuquén                12\n",
      "Buenos Aires           11\n",
      "Corrientes             11\n",
      "Santa Fe               11\n",
      "Córdoba                10\n",
      "Chaco                   9\n",
      "Capital Federal         8\n",
      "Misiones                8\n",
      "Name: count, dtype: int64\n"
     ]
    }
   ],
   "source": [
    "niveles_frecuencia = velocidad_filtrada['Provincia'].value_counts()\n",
    "print(niveles_frecuencia)"
   ]
  },
  {
   "cell_type": "code",
   "execution_count": 65,
   "metadata": {},
   "outputs": [
    {
     "name": "stdout",
     "output_type": "stream",
     "text": [
      "Provincia\n",
      "Buenos Aires           1\n",
      "Capital Federal        1\n",
      "Tierra Del Fuego       1\n",
      "Santiago Del Estero    1\n",
      "Santa Fe               1\n",
      "Santa Cruz             1\n",
      "San Luis               1\n",
      "San Juan               1\n",
      "Salta                  1\n",
      "Río Negro              1\n",
      "Neuquén                1\n",
      "Misiones               1\n",
      "Mendoza                1\n",
      "La Rioja               1\n",
      "La Pampa               1\n",
      "Jujuy                  1\n",
      "Formosa                1\n",
      "Entre Ríos             1\n",
      "Córdoba                1\n",
      "Corrientes             1\n",
      "Chubut                 1\n",
      "Chaco                  1\n",
      "Catamarca              1\n",
      "Tucumán                1\n",
      "Name: count, dtype: int64\n"
     ]
    }
   ],
   "source": [
    "# Agrupa por 'Provincia' y calcula la suma total de 'Mbps (Media de bajada)' para cada provincia\n",
    "velocidad_suma = velocidad_filtrada.groupby('Provincia')['Mbps (Media de bajada)'].sum().reset_index()\n",
    "\n",
    "niveles_frecuencia = velocidad_suma['Provincia'].value_counts()\n",
    "print(niveles_frecuencia)\n",
    "\n"
   ]
  },
  {
   "cell_type": "code",
   "execution_count": 66,
   "metadata": {},
   "outputs": [
    {
     "data": {
      "image/png": "[encoded data removed]",
      "text/plain": [
       "<Figure size 1400x600 with 1 Axes>"
      ]
     },
     "metadata": {},
     "output_type": "display_data"
    }
   ],
   "source": [
    "# Configura el tamaño del gráfico\n",
    "plt.figure(figsize=(14, 6))\n",
    "#velocidad_filtrada_top5 = velocidad_filtrada.head(5)\n",
    "\n",
    "# Genera el gráfico de barras con el DataFrame filtrado\n",
    "sns.barplot(x='Provincia', y='Mbps (Media de bajada)', data=velocidad_suma.head(5).sort_values(by=('Mbps (Media de bajada)'),ascending=False), errorbar=None)\n",
    "\n",
    "# Personaliza el gráfico\n",
    "plt.title('Ciudades con Valores Promedio de Mbps entre 1 Mpbs y 6 Mbps')\n",
    "plt.xlabel('Provincia')\n",
    "plt.ylabel('Mbps (Media de bajada)')\n",
    "plt.xticks(rotation=45)  # Rota los nombres de las provincias para mejor visualización\n",
    "plt.show()"
   ]
  },
  {
   "cell_type": "markdown",
   "metadata": {},
   "source": [
    "    tal como se puede ver estas velocidades estan presente en gran parte de las provincias de Argentina, con mayoria en Chubut, Catamarca y Buenos Aires"
   ]
  },
  {
   "cell_type": "markdown",
   "metadata": {},
   "source": [
    "SEGUN LO OBSERVADO EN ESTE PROCESO PUEDO RECOMENDAR:\n",
    "\n",
    "- ENFOCAR LOS ESFUERZOS Y FUERZA DE CAMPANA EN OFRECER A LOS CLIENTES QUE SE ENCUENTRAN EN VELOCIDADES DE 1 A 6 MPBS, LOS PLANES QUE ABARCAN DE 6 MPBS EN ADELANTE MIGRANDOLOS CON MEMBRESIAS PREMIUN Y CIERTOS BENEFICIOS, EL MERCADO DE HOGARES CON PLANES DE 1 A 6 MBP ESALTO, MIENTRAS QUE MUY BAJA CANTIDAD DE HOGARES ESTAN EN PLANES SUPERIORES, HAY QUE TOMAR EN CUENTA QUE LOS CONTENIDOS EN LA WEB CON EL PASAR DE LOS TIEMPOS SE VUELVEN MAS PESADOS Y POR ENDE SE NECESITAN MEJORES VELOCIDADES DE CONEXION, POR LO QUE SE DEBE CUANTO ANTES BUCAR ESTAS MIGRACIONES Y AUMENTAR LOS INGRESOS.\n",
    "\n",
    "- LAS PROVINCIAS DONDE HAY MAYOR POSIBILIDAD DE CONCRETAR ESTAS MIGRACIONES SON EN CHUBUT, CATAMARCA, BUENOS AIRES, CHACO Y CAPITAL FEDERAL\n"
   ]
  }
 ],
 "metadata": {
  "kernelspec": {
   "display_name": "Python 3",
   "language": "python",
   "name": "python3"
  },
  "language_info": {
   "codemirror_mode": {
    "name": "ipython",
    "version": 3
   },
   "file_extension": ".py",
   "mimetype": "text/x-python",
   "name": "python",
   "nbconvert_exporter": "python",
   "pygments_lexer": "ipython3",
   "version": "3.12.5"
  }
 },
 "nbformat": 4,
 "nbformat_minor": 2
}
